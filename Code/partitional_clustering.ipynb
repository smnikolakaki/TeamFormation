{
 "cells": [
  {
   "cell_type": "code",
   "execution_count": null,
   "metadata": {
    "collapsed": true
   },
   "outputs": [],
   "source": [
    "###################################################################################################\n",
    "# Implementation of partitional clustering for case V0\n",
    "# Input: People with features\n",
    "# Output: Clusters\n",
    "# Method: Partitional clustering using \n",
    "# (a) KMeans++ with distance function being d(x,y) = 1-JS(x,y) \n",
    "# (b) Find Top-k most similar users, using d(x,y) = 1 - JS(x,y) distance function \n",
    "#     and connected components of these users to find clusters\n",
    "# (c) Use set cover to form clusters given that a user is definitely within one of these clusters\n",
    "###################################################################################################"
   ]
  },
  {
   "cell_type": "code",
   "execution_count": 4,
   "metadata": {
    "collapsed": true
   },
   "outputs": [],
   "source": [
    "from sklearn.cluster import KMeans\n",
    "from sklearn.metrics import jaccard_similarity_score as JS\n",
    "import itertools as it"
   ]
  },
  {
   "cell_type": "code",
   "execution_count": 3,
   "metadata": {
    "collapsed": false
   },
   "outputs": [],
   "source": [
    "# KMeans using distance function d(x,y) = 1-JS\n",
    "# Input: k, data\n",
    "# Output: k clusters \n",
    "def kMeans_pp(k,data):\n",
    "    kmeans = KMeans(init='k-means++', n_clusters=k, n_init=100)\n",
    "    kmeans.fit_predict(data)"
   ]
  },
  {
   "cell_type": "code",
   "execution_count": null,
   "metadata": {
    "collapsed": true
   },
   "outputs": [],
   "source": [
    "# Top-k most similar users, using d(x,y) = 1 - JS(x,y)\n",
    "# Input: k, data\n",
    "# Output: arbitrary number of clusters\n",
    "def topK(k,data):\n",
    "    values=[JS(i, j) for i, j in it.combinations(data, 2)] \n",
    "        "
   ]
  },
  {
   "cell_type": "code",
   "execution_count": null,
   "metadata": {
    "collapsed": true
   },
   "outputs": [],
   "source": [
    "def main(data,k,top_k):\n",
    "    "
   ]
  }
 ],
 "metadata": {
  "kernelspec": {
   "display_name": "Python 2",
   "language": "python",
   "name": "python2"
  },
  "language_info": {
   "codemirror_mode": {
    "name": "ipython",
    "version": 2
   },
   "file_extension": ".py",
   "mimetype": "text/x-python",
   "name": "python",
   "nbconvert_exporter": "python",
   "pygments_lexer": "ipython2",
   "version": "2.7.13"
  }
 },
 "nbformat": 4,
 "nbformat_minor": 2
}
