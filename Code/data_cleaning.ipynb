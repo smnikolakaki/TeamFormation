{
 "cells": [
  {
   "cell_type": "markdown",
   "metadata": {},
   "source": [
    "## *change the f_input and f_output run through all blocks to output clean csv"
   ]
  },
  {
   "cell_type": "code",
   "execution_count": 18,
   "metadata": {
    "collapsed": true
   },
   "outputs": [],
   "source": [
    "f_input = 'registration_hackthegap_10:4.csv'\n",
    "f_output = 'Hackthegap_clean.csv'"
   ]
  },
  {
   "cell_type": "code",
   "execution_count": 19,
   "metadata": {
    "collapsed": true
   },
   "outputs": [],
   "source": [
    "import pandas as pd\n",
    "import numpy as np\n",
    "import matplotlib.pyplot as plt\n",
    "import re\n",
    "import edit_distance"
   ]
  },
  {
   "cell_type": "code",
   "execution_count": 20,
   "metadata": {
    "collapsed": false
   },
   "outputs": [
    {
     "data": {
      "text/plain": [
       "(108, 26)"
      ]
     },
     "execution_count": 20,
     "metadata": {},
     "output_type": "execute_result"
    }
   ],
   "source": [
    "data = pd.DataFrame.from_csv(path= f_input,header=1)\n",
    "data = data.ix[pd.notnull(data.index),:]\n",
    "data.index = np.arange(data.shape[0])\n",
    "data.shape"
   ]
  },
  {
   "cell_type": "code",
   "execution_count": 21,
   "metadata": {
    "collapsed": true
   },
   "outputs": [],
   "source": [
    "majorslist = []\n",
    "with open('majorslist') as f:\n",
    "    for line in f.readlines():\n",
    "        majorslist.append(line.replace('\\n','').lower())\n",
    "        \n",
    "abbr = {'ce':'computer engineering','cs': 'computer science', \\\n",
    "        'ee': 'electronic engineering','bme':'biomedical engineering','math':'mathematics',\\\n",
    "        'com studies': 'communication studies','business administration':'business'}"
   ]
  },
  {
   "cell_type": "code",
   "execution_count": 22,
   "metadata": {
    "collapsed": false
   },
   "outputs": [],
   "source": [
    "# split \n",
    "\n",
    "def split(delimiters, string, maxsplit=0):\n",
    "    regexPattern = '|'.join(map(re.escape, delimiters))\n",
    "    return re.split(regexPattern, string, maxsplit)\n",
    "\n",
    "majors = data['What is your major and minor (if applicable)?'].copy()\n",
    "\n",
    "temp = []\n",
    "for i in majors:\n",
    "    phrases = split([';',',','+','and','&','/','.','(',')','-',\\\n",
    "                     'minor','major','Major','Minor',':',' in ','double','Double','with','With'],i)\n",
    "    phrases = [x.strip().lower() for x in phrases if x is not '' and x is not ' ']\n",
    "    temp.append(phrases)\n",
    "majors = temp "
   ]
  },
  {
   "cell_type": "code",
   "execution_count": 23,
   "metadata": {
    "collapsed": false
   },
   "outputs": [
    {
     "name": "stdout",
     "output_type": "stream",
     "text": [
      "computer engineering computer engineering 0\n",
      "biomedical engineering biomedical engineering 0\n",
      "computer science computer science 0\n",
      "computer engineering computer engineering 0\n",
      "computer science computer science 0\n",
      "business business 0\n",
      "journalism journalism 0\n",
      "economics economics 0\n",
      "business business 0\n",
      "computer engineering computer engineering 0\n",
      "communication communication 0\n",
      "journalism journalism 0\n",
      "german german 0\n",
      "computer sience computer science 1\n",
      "international relations international relations  1\n",
      "economics economics 0\n",
      "computer science computer science 0\n",
      "english english 0\n",
      "computer science computer science 0\n",
      "biomedical engineering biomedical engineering 0\n",
      "computer science computer science 0\n",
      "mathematics mathematics 0\n",
      "statistics statistics 0\n",
      "economics economics 0\n",
      "neuroscience neuroscience 0\n",
      "public health public health 0\n",
      "biology biology 0\n",
      "psychology psychology 0\n",
      "sociology sociology 0\n",
      "statistics statistics 0\n",
      "mathematics mathematics 0\n",
      "computer science computer science 0\n",
      "graphic design graphic design 0\n",
      "computer science computer science 0\n",
      "mechanical engineering mechanical engineering 0\n",
      "computer science computer science 0\n",
      "marketing marketing 0\n",
      "computer science computer science 0\n",
      "visual arts visual arts 0\n",
      "computer science computer science 0\n",
      "computer engineering computer engineering 0\n",
      "chinese chinese 0\n",
      "graphic design graphic design 0\n",
      "computer science computer science 0\n",
      "computer science computer science 0\n",
      "computer science computer science 0\n",
      "journalism journalism 0\n",
      "journalism journalism 0\n",
      "journalism journalism 0\n",
      "computer science computer science 0\n",
      "computer science computer science 0\n",
      "film film 0\n",
      "political science political science 0\n",
      "international relations international relations  1\n",
      "business business 0\n",
      "computer science computer science 0\n",
      "computer engineering computer engineering 0\n",
      "biomedical engineering biomedical engineering 0\n",
      "computer science computer science 0\n",
      "computer engineering computer engineering 0\n",
      "political science political science 0\n",
      "graphic design graphic design 0\n",
      "communication communication 0\n",
      "graphic design graphic design 0\n",
      "computer science computer science 0\n",
      "computer science computer science 0\n",
      "computer science computer science 0\n",
      "communication studies communication studies 0\n",
      "computer science computer science 0\n",
      "computer science computer science 0\n",
      "biomedical engineering biomedical engineering 0\n",
      "electrical engineering electrical engineering 0\n",
      "journalism journalism 0\n",
      "public health public health 0\n",
      "computer science computer science 0\n",
      "biology biology 0\n",
      "graphic design graphic design 0\n",
      "computer science computer science 0\n",
      "mathematics mathematics 0\n",
      "political science political science 0\n",
      "international relations international relations  1\n",
      "computer science computer science 0\n",
      "advertising advertising 0\n",
      "computer science computer science 0\n",
      "international relations international relations  1\n",
      "public health public health 0\n",
      "computer science computer science 0\n",
      "computer science computer science 0\n",
      "computer engineering computer engineering 0\n",
      "computer science computer science 0\n",
      "neuroscience neuroscience 0\n",
      "computer science computer science 0\n",
      "french french 0\n",
      "biology biology 0\n",
      "film film 0\n",
      "public health public health 0\n",
      "international relations international relations  1\n",
      "sociology sociology 0\n",
      "journalism journalism 0\n",
      "advertising advertising 0\n",
      "management information systems management information systems 0\n",
      "international relations international relations  1\n",
      "political science political science 0\n",
      "journalism journalism 0\n",
      "visual arts visual arts 0\n",
      "biomedical engineering biomedical engineering 0\n",
      "mechanical engineering mechanical engineering 0\n",
      "international relations international relations  1\n",
      "french french 0\n",
      "history history 0\n",
      "sociology sociology 0\n",
      "computer science computer science 0\n",
      "computer science computer science 0\n",
      "economics economics 0\n",
      "biomedical engineering biomedical engineering 0\n",
      "international relations international relations  1\n",
      "computer science computer science 0\n",
      "computer science computer science 0\n",
      "finance finance 0\n",
      "computer engineering computer engineering 0\n",
      "undecided undecided 0\n",
      "biomedical engineering biomedical engineering 0\n",
      "biomedical engineering biomedical engineering 0\n",
      "international relations international relations  1\n",
      "marketing marketing 0\n",
      "computer science computer science 0\n",
      "computer science computer science 0\n",
      "computer science computer science 0\n",
      "computer science computer science 0\n",
      "computer science computer science 0\n",
      "computer engineering computer engineering 0\n",
      "journalism journalism 0\n",
      "computer science computer science 0\n",
      "journalism journalism 0\n",
      "journalism journalism 0\n",
      "computer engineering computer engineering 0\n",
      "public relations public relations 0\n",
      "film film 0\n"
     ]
    }
   ],
   "source": [
    "# map\n",
    "mapping = []\n",
    "for row in majors:\n",
    "    temp= []\n",
    "    for phrase in row:\n",
    "        \n",
    "        # deal with abbr.\n",
    "        if phrase in abbr:\n",
    "            temp.append(abbr[phrase])\n",
    "            continue\n",
    "            \n",
    "        # compare with each major\n",
    "        for candidate in majorslist:\n",
    "            sm = edit_distance.SequenceMatcher(a=phrase, b=candidate)\n",
    "            if sm.distance()<=2: \n",
    "                temp.append(candidate)\n",
    "                print(phrase,candidate,sm.distance())\n",
    "                break\n",
    "    if temp == []: temp.append('undecided')\n",
    "    mapping.append(temp)"
   ]
  },
  {
   "cell_type": "code",
   "execution_count": 24,
   "metadata": {
    "collapsed": false
   },
   "outputs": [
    {
     "data": {
      "text/plain": [
       "Index(['What's your first name?',\n",
       "       'Hey {{answer_57551534}}, nice to meet you.What's your last name?',\n",
       "       'Which email address shall we use?',\n",
       "       'What school/college are you enrolled in?',\n",
       "       'How many hackathons have you participated in before?', 'Python',\n",
       "       'HTML5/CSS', 'Javascript', 'Java', 'SQL', 'C++', 'Beginner',\n",
       "       'What is a programming language?',\n",
       "       'What type of technology are you interested in learning during the hackathon?',\n",
       "       'Please upload your resume, so we can send them to our sponsors that are looking to hire BU Students',\n",
       "       'How do you plan to use the technical skills you will learn after hackathon?',\n",
       "       'Why are you passionate about ending the gender gap in technology?',\n",
       "       'What is your race?', 'What is your sexual orientation?',\n",
       "       'Are you a first generation college student?',\n",
       "       'I hereby allow Hack the Gap to anonymously share my registration information with Hack the Gap and affiliates.',\n",
       "       'Any additional comments or suggestions?', 'Start Date (UTC)',\n",
       "       'Submit Date (UTC)', 'Network ID', 'major1', 'major2', 'major3'],\n",
       "      dtype='object')"
      ]
     },
     "execution_count": 24,
     "metadata": {},
     "output_type": "execute_result"
    }
   ],
   "source": [
    "# intergrate in the dataframe\n",
    "major1 =[x[0:1] for x in mapping]\n",
    "major2 =[x[1:2] for x in mapping]\n",
    "major3 =[x[2:3] for x in mapping]\n",
    "\n",
    "data = data.assign(major1 =major1,major2=major2,major3=major3)\n",
    "data = data.drop('What is your major and minor (if applicable)?', axis=1)\n",
    "data.columns"
   ]
  },
  {
   "cell_type": "code",
   "execution_count": null,
   "metadata": {
    "collapsed": true
   },
   "outputs": [],
   "source": [
    "data.to_csv(f_output)"
   ]
  }
 ],
 "metadata": {
  "kernelspec": {
   "display_name": "Python [default]",
   "language": "python",
   "name": "python3"
  },
  "language_info": {
   "codemirror_mode": {
    "name": "ipython",
    "version": 3
   },
   "file_extension": ".py",
   "mimetype": "text/x-python",
   "name": "python",
   "nbconvert_exporter": "python",
   "pygments_lexer": "ipython3",
   "version": "3.5.2"
  }
 },
 "nbformat": 4,
 "nbformat_minor": 2
}
